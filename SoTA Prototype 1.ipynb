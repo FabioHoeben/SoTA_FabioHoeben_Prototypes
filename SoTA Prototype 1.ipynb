{
 "cells": [
  {
   "cell_type": "code",
   "execution_count": 1,
   "metadata": {},
   "outputs": [],
   "source": [
    "import pandas as pd"
   ]
  },
  {
   "cell_type": "code",
   "execution_count": 2,
   "metadata": {},
   "outputs": [],
   "source": [
    "Beer = pd.read_csv('Bieren1.csv', sep=\";\")\n"
   ]
  },
  {
   "cell_type": "markdown",
   "metadata": {},
   "source": [
    "# Based on userinput"
   ]
  },
  {
   "cell_type": "code",
   "execution_count": 3,
   "metadata": {},
   "outputs": [
    {
     "name": "stdout",
     "output_type": "stream",
     "text": [
      "What beer do you like?Skuumkoppe\n"
     ]
    }
   ],
   "source": [
    "Input_beer = input(\"What beer do you like?\")"
   ]
  },
  {
   "cell_type": "code",
   "execution_count": 4,
   "metadata": {},
   "outputs": [
    {
     "data": {
      "text/plain": [
       "'Fris & Fruitig, Zoet & Zacht'"
      ]
     },
     "execution_count": 4,
     "metadata": {},
     "output_type": "execute_result"
    }
   ],
   "source": [
    "Beer_like = Beer[Beer['Name beer'].str.contains(Input_beer)]\n",
    "#Beer_like\n",
    "Great_taste = Beer_like[\"Taste\"]\n",
    "Great_soort = Beer_like[\"Soort\"]\n",
    "Great_taste = Great_taste.reset_index()\n",
    "Great_taste = Great_taste[\"Taste\"]\n",
    "Great_taste = Great_taste[0]\n",
    "Great_taste"
   ]
  },
  {
   "cell_type": "code",
   "execution_count": 5,
   "metadata": {},
   "outputs": [
    {
     "data": {
      "text/html": [
       "<div>\n",
       "<style scoped>\n",
       "    .dataframe tbody tr th:only-of-type {\n",
       "        vertical-align: middle;\n",
       "    }\n",
       "\n",
       "    .dataframe tbody tr th {\n",
       "        vertical-align: top;\n",
       "    }\n",
       "\n",
       "    .dataframe thead th {\n",
       "        text-align: right;\n",
       "    }\n",
       "</style>\n",
       "<table border=\"1\" class=\"dataframe\">\n",
       "  <thead>\n",
       "    <tr style=\"text-align: right;\">\n",
       "      <th></th>\n",
       "      <th>Brewery</th>\n",
       "      <th>Name beer</th>\n",
       "      <th>Alcohol percentage</th>\n",
       "      <th>Temperature</th>\n",
       "      <th>Accomodation</th>\n",
       "      <th>content</th>\n",
       "      <th>Kleur</th>\n",
       "      <th>land</th>\n",
       "      <th>Taste</th>\n",
       "      <th>Soort</th>\n",
       "    </tr>\n",
       "  </thead>\n",
       "  <tbody>\n",
       "    <tr>\n",
       "      <th>1</th>\n",
       "      <td>Texelse bierbrouwerij</td>\n",
       "      <td>Skuumkoppe</td>\n",
       "      <td>6</td>\n",
       "      <td>6</td>\n",
       "      <td>Bovengisting</td>\n",
       "      <td>30</td>\n",
       "      <td>amber</td>\n",
       "      <td>Nederland</td>\n",
       "      <td>Fris &amp; Fruitig, Zoet &amp; Zacht</td>\n",
       "      <td>Amber</td>\n",
       "    </tr>\n",
       "    <tr>\n",
       "      <th>4</th>\n",
       "      <td>Texelse bierbrouwerij</td>\n",
       "      <td>Goudkoppe</td>\n",
       "      <td>6</td>\n",
       "      <td>6</td>\n",
       "      <td>Bovengisting</td>\n",
       "      <td>30</td>\n",
       "      <td>Blond</td>\n",
       "      <td>Nederland</td>\n",
       "      <td>Fris &amp; Fruitig, Zoet &amp; Zacht</td>\n",
       "      <td>Blond</td>\n",
       "    </tr>\n",
       "    <tr>\n",
       "      <th>9</th>\n",
       "      <td>Brasserie d'Achouffe</td>\n",
       "      <td>Cherry chouffe</td>\n",
       "      <td>8</td>\n",
       "      <td>8</td>\n",
       "      <td>Bovengisting</td>\n",
       "      <td>33</td>\n",
       "      <td>Rood</td>\n",
       "      <td>België</td>\n",
       "      <td>Fris &amp; Fruitig, Zoet &amp; Zacht</td>\n",
       "      <td>Fruit</td>\n",
       "    </tr>\n",
       "  </tbody>\n",
       "</table>\n",
       "</div>"
      ],
      "text/plain": [
       "                 Brewery       Name beer  Alcohol percentage  Temperature  \\\n",
       "1  Texelse bierbrouwerij      Skuumkoppe                   6            6   \n",
       "4  Texelse bierbrouwerij       Goudkoppe                   6            6   \n",
       "9   Brasserie d'Achouffe  Cherry chouffe                   8            8   \n",
       "\n",
       "   Accomodation  content  Kleur       land                         Taste  \\\n",
       "1  Bovengisting       30  amber  Nederland  Fris & Fruitig, Zoet & Zacht   \n",
       "4  Bovengisting       30  Blond  Nederland  Fris & Fruitig, Zoet & Zacht   \n",
       "9  Bovengisting       33   Rood     België  Fris & Fruitig, Zoet & Zacht   \n",
       "\n",
       "   Soort  \n",
       "1  Amber  \n",
       "4  Blond  \n",
       "9  Fruit  "
      ]
     },
     "execution_count": 5,
     "metadata": {},
     "output_type": "execute_result"
    }
   ],
   "source": [
    "Recommend = Beer\n",
    "Recommend = Recommend[Recommend['Taste'].str.contains(Great_taste)]\n",
    "\n",
    "\n",
    "Recommend"
   ]
  },
  {
   "cell_type": "code",
   "execution_count": null,
   "metadata": {},
   "outputs": [],
   "source": []
  },
  {
   "cell_type": "code",
   "execution_count": null,
   "metadata": {},
   "outputs": [],
   "source": []
  },
  {
   "cell_type": "code",
   "execution_count": null,
   "metadata": {},
   "outputs": [],
   "source": []
  },
  {
   "cell_type": "code",
   "execution_count": null,
   "metadata": {},
   "outputs": [],
   "source": []
  }
 ],
 "metadata": {
  "kernelspec": {
   "display_name": "Python 3",
   "language": "python",
   "name": "python3"
  },
  "language_info": {
   "codemirror_mode": {
    "name": "ipython",
    "version": 3
   },
   "file_extension": ".py",
   "mimetype": "text/x-python",
   "name": "python",
   "nbconvert_exporter": "python",
   "pygments_lexer": "ipython3",
   "version": "3.8.3"
  }
 },
 "nbformat": 4,
 "nbformat_minor": 4
}
